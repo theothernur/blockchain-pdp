{
 "cells": [
  {
   "cell_type": "code",
   "execution_count": 57,
   "id": "bd80cb4e",
   "metadata": {},
   "outputs": [],
   "source": [
    "import hashlib as hasher\n",
    "import datetime as date\n",
    "\n",
    "class Block:\n",
    "  def __init__(self, index, timestamp, data, previous_hash):\n",
    "    self.index = index\n",
    "    self.timestamp = timestamp\n",
    "    self.data = data\n",
    "    self.previous_hash = previous_hash\n",
    "    self.hash = self.hash_block()\n",
    "  \n",
    "  def hash_block(self): #this function will create each block's personal hashes\n",
    "    sha = hasher.sha256()\n",
    "    sha.update((str(self.index) + str(self.timestamp) + str(self.data) + str(self.previous_hash)).encode())   #changed line\n",
    "    return sha.hexdigest() \n"
   ]
  },
  {
   "cell_type": "code",
   "execution_count": 58,
   "id": "edaadc7c",
   "metadata": {},
   "outputs": [],
   "source": [
    "def create_genesis_block():\n",
    "  return Block(0, date.datetime.now(), 0, 0)\n",
    "\n",
    "def next_block(last_block):\n",
    "  this_index = last_block.index + 1\n",
    "  this_timestamp = date.datetime.now()\n",
    "  this_data = str(this_index) + \" eth\"\n",
    "  this_hash = last_block.hash\n",
    "  return Block(this_index, this_timestamp, this_data, this_hash)"
   ]
  },
  {
   "cell_type": "code",
   "execution_count": 59,
   "id": "fbf19767",
   "metadata": {},
   "outputs": [
    {
     "name": "stdout",
     "output_type": "stream",
     "text": [
      "Genesis Block is created. You are now ready to make a transaction.\n",
      "Hash: 71af8afe007679f65266c0acf7b4e1d6865ffc0067d2394b4ea6fa2754a1b35a\n",
      "Timestamp: 2022-05-13 11:51:50.517603\n",
      "Previous Hash: 0\n",
      "Your balance is 0 eth.\n",
      "\n",
      "Transaction #1 has been made to the blockchain!\n",
      "Hash: 202c870edc1517de8b164e2273f14468f213397c539b70fc6212fdc67a7e264e\n",
      "Timestamp: 2022-05-13 11:51:50.519270\n",
      "Previous Hash: 71af8afe007679f65266c0acf7b4e1d6865ffc0067d2394b4ea6fa2754a1b35a\n",
      "Your balance is 1 eth.\n",
      "\n",
      "Transaction #2 has been made to the blockchain!\n",
      "Hash: 84ae0215d4611234ebbceaf399976c1d70715245995234eb38fed5fc905f3e42\n",
      "Timestamp: 2022-05-13 11:51:50.519463\n",
      "Previous Hash: 202c870edc1517de8b164e2273f14468f213397c539b70fc6212fdc67a7e264e\n",
      "Your balance is 2 eth.\n",
      "\n",
      "Transaction #3 has been made to the blockchain!\n",
      "Hash: 150545d38b2c8cc6a70709c4d1866ce1096e41d9154698d66f1b8869da1c1406\n",
      "Timestamp: 2022-05-13 11:51:50.519657\n",
      "Previous Hash: 84ae0215d4611234ebbceaf399976c1d70715245995234eb38fed5fc905f3e42\n",
      "Your balance is 3 eth.\n",
      "\n",
      "Transaction #4 has been made to the blockchain!\n",
      "Hash: cfa1c7c15a14dbb0455f96570a1d1ed212aa3c8917bf78354c0f58c520948d8b\n",
      "Timestamp: 2022-05-13 11:51:50.519819\n",
      "Previous Hash: 150545d38b2c8cc6a70709c4d1866ce1096e41d9154698d66f1b8869da1c1406\n",
      "Your balance is 4 eth.\n",
      "\n",
      "Transaction #5 has been made to the blockchain!\n",
      "Hash: c334a17349186a23f6293dc9bbe47d077f9828f92149fabe1773a83edeecaaae\n",
      "Timestamp: 2022-05-13 11:51:50.520062\n",
      "Previous Hash: cfa1c7c15a14dbb0455f96570a1d1ed212aa3c8917bf78354c0f58c520948d8b\n",
      "Your balance is 5 eth.\n",
      "\n"
     ]
    }
   ],
   "source": [
    "blockchain = [create_genesis_block()]\n",
    "previous_block = blockchain[0] \n",
    "\n",
    "print(\"Genesis Block is created. You are now ready to make a transaction.\")\n",
    "print (\"Hash: {}\".format(previous_block.hash))\n",
    "print (\"Timestamp: {}\".format(previous_block.timestamp))\n",
    "print (\"Previous Hash: {}\".format(previous_block.previous_hash))\n",
    "print(\"Your balance is \"+ str(previous_block.index) +  \" eth.\\n\")\n",
    "\n",
    "num_of_blocks_to_add = 5\n",
    "\n",
    "for i in range(0, num_of_blocks_to_add):\n",
    "  block_to_add = next_block(previous_block)\n",
    "  blockchain.append(block_to_add)\n",
    "  previous_block = block_to_add\n",
    "  print (\"Transaction #{} has been made to the blockchain!\".format(block_to_add.index))\n",
    "  print (\"Hash: {}\".format(block_to_add.hash))\n",
    "  print (\"Timestamp: {}\".format(block_to_add.timestamp))\n",
    "  print (\"Previous Hash: {}\".format(block_to_add.previous_hash))\n",
    "  print(\"Your balance is \"+ str(previous_block.index) +  \" eth.\\n\")"
   ]
  },
  {
   "cell_type": "code",
   "execution_count": null,
   "id": "6b206fd3",
   "metadata": {},
   "outputs": [],
   "source": []
  },
  {
   "cell_type": "code",
   "execution_count": null,
   "id": "0ff80eba",
   "metadata": {},
   "outputs": [],
   "source": []
  }
 ],
 "metadata": {
  "kernelspec": {
   "display_name": "Python 3 (ipykernel)",
   "language": "python",
   "name": "python3"
  },
  "language_info": {
   "codemirror_mode": {
    "name": "ipython",
    "version": 3
   },
   "file_extension": ".py",
   "mimetype": "text/x-python",
   "name": "python",
   "nbconvert_exporter": "python",
   "pygments_lexer": "ipython3",
   "version": "3.9.7"
  }
 },
 "nbformat": 4,
 "nbformat_minor": 5
}
